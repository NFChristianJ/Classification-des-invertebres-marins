{
 "cells": [
  {
   "cell_type": "code",
   "execution_count": 10,
   "id": "51268e16-f3ec-491c-a216-d89c791c85be",
   "metadata": {},
   "outputs": [],
   "source": [
    "import torch\n",
    "import torchvision.transforms as transforms\n",
    "from PIL import Image\n",
    "import torch.nn as nn\n",
    "from timm import create_model\n",
    "import json\n"
   ]
  },
  {
   "cell_type": "code",
   "execution_count": 2,
   "id": "0e1479b2-26a5-4c39-81bb-e423a1a4ea23",
   "metadata": {},
   "outputs": [
    {
     "name": "stderr",
     "output_type": "stream",
     "text": [
      "C:\\Users\\Christian\\AppData\\Local\\Temp\\ipykernel_10296\\654671493.py:4: FutureWarning: You are using `torch.load` with `weights_only=False` (the current default value), which uses the default pickle module implicitly. It is possible to construct malicious pickle data which will execute arbitrary code during unpickling (See https://github.com/pytorch/pytorch/blob/main/SECURITY.md#untrusted-models for more details). In a future release, the default value for `weights_only` will be flipped to `True`. This limits the functions that could be executed during unpickling. Arbitrary objects will no longer be allowed to be loaded via this mode unless they are explicitly allowlisted by the user via `torch.serialization.add_safe_globals`. We recommend you start setting `weights_only=True` for any use case where you don't have full control of the loaded file. Please open an issue on GitHub for any issues related to this experimental feature.\n",
      "  model.load_state_dict(torch.load(\"model.pth\",map_location = torch.device('cpu')))\n"
     ]
    }
   ],
   "source": [
    "model = create_model('vit_base_patch16_224',pretrained = True)\n",
    "model.head = nn.Linear(model.head.in_features, 137)  # nombre de classes = 137\n",
    "\n",
    "model.load_state_dict(torch.load(\"model.pth\",map_location = torch.device('cpu')))\n",
    "model.eval()\n",
    "\n",
    "transform = transforms.Compose([\n",
    "    transforms.Resize((224, 224)),\n",
    "    transforms.ToTensor(),\n",
    "    transforms.Normalize(mean=[0.485, 0.456, 0.406], std=[0.229, 0.224, 0.225])\n",
    "])\n"
   ]
  },
  {
   "cell_type": "code",
   "execution_count": 11,
   "id": "2266c4e3-5e0e-48e9-9e3b-348c0869810c",
   "metadata": {},
   "outputs": [],
   "source": [
    "with open(\"class_indices.json\", \"r\") as f:\n",
    "    class_indices = json.load(f)\n",
    "\n",
    "# Inverser le dictionnaire pour avoir les classes associées à l'index\n",
    "class_names = {v: k for k, v in class_indices.items()}"
   ]
  },
  {
   "cell_type": "code",
   "execution_count": 14,
   "id": "a2f28466-a807-481a-9f7c-235e3be7ebb8",
   "metadata": {},
   "outputs": [
    {
     "name": "stdout",
     "output_type": "stream",
     "text": [
      "L'invertébré prédit est de l'index : 4 de classe Aequorea_spp_\n"
     ]
    }
   ],
   "source": [
    "image_path = \"C:\\\\Users\\\\Christian\\\\Desktop\\\\UE Projet\\\\Dataset\\\\test_small\\\\test_small_1\\\\27.jpg\" \n",
    "image = Image.open(image_path).convert('RGB')\n",
    "input_tensor = transform(image).unsqueeze(0)  # batch size = 1\n",
    "\n",
    "with torch.no_grad():\n",
    "    output = model(input_tensor)\n",
    "    predicted_class_idx = torch.argmax(output, dim=1).item()\n",
    "    predicted_class_name = class_names[predicted_class_idx]\n",
    "    print(\"L'invertébré prédit est de l'index \", predicted_class_idx, \"de classe\",predicted_class_name)\n"
   ]
  },
  {
   "cell_type": "code",
   "execution_count": 24,
   "id": "cfbb23a5-d2fc-4ea8-b96d-b73885e07f77",
   "metadata": {},
   "outputs": [
    {
     "name": "stdout",
     "output_type": "stream",
     "text": [
      "L'invertébré prédit est de classe : Porifera_\n"
     ]
    }
   ],
   "source": [
    "threshold = 0.7  # seuil de confiance\n",
    "\n",
    "image_path = \"C:\\\\Users\\\\Christian\\\\Desktop\\\\UE Projet\\\\Dataset\\\\test_small\\\\test_small_1\\\\90.jpg\" \n",
    "image = Image.open(image_path).convert('RGB')\n",
    "input_tensor = transform(image).unsqueeze(0)  # batch size = 1\n",
    "\n",
    "# Inference\n",
    "with torch.no_grad():\n",
    "    output = model(input_tensor)\n",
    "    probabilities = torch.softmax(output, dim=1)  # Calcul des probabilités\n",
    "    max_prob, predicted_class_idx = torch.max(probabilities, dim=1)\n",
    "\n",
    "if max_prob < threshold:\n",
    "    print(\"L'image appartient à une catégorie inconnue.\")\n",
    "else:\n",
    "    # Convertir l'index en nom de classe\n",
    "    predicted_class_name = class_names[predicted_class_idx.item()]\n",
    "    print(\"L'invertébré prédit est de classe :\", predicted_class_name)\n"
   ]
  },
  {
   "cell_type": "code",
   "execution_count": 25,
   "id": "6f3231e3-6c07-4852-ac9b-8912d9323103",
   "metadata": {},
   "outputs": [
    {
     "data": {
      "text/plain": [
       "tensor([[3.7296e-03, 2.8323e-05, 1.9827e-04, 5.1233e-05, 1.7867e-05, 8.2308e-04,\n",
       "         5.2757e-04, 5.9283e-08, 1.7893e-04, 2.4687e-06, 1.6335e-05, 1.5203e-05,\n",
       "         1.3600e-05, 3.9078e-04, 3.8642e-06, 1.7857e-05, 1.2161e-04, 2.7662e-05,\n",
       "         3.0435e-05, 2.9072e-04, 1.7133e-06, 5.5971e-05, 1.2413e-04, 7.4114e-05,\n",
       "         5.6812e-04, 6.7965e-06, 1.3298e-05, 4.3491e-05, 7.3503e-08, 1.2572e-05,\n",
       "         2.4586e-04, 4.4237e-06, 4.7108e-03, 4.2226e-06, 3.9132e-06, 7.4126e-07,\n",
       "         4.4886e-06, 2.6505e-06, 1.6863e-05, 3.6543e-05, 4.2639e-03, 1.9111e-05,\n",
       "         1.2518e-05, 2.2037e-04, 1.1799e-03, 6.0596e-06, 3.1017e-06, 4.6543e-06,\n",
       "         5.2153e-06, 4.7391e-05, 1.4860e-04, 4.6798e-06, 9.0817e-07, 1.0077e-06,\n",
       "         2.1448e-05, 1.3250e-06, 1.4184e-04, 2.6435e-05, 3.7965e-06, 3.7649e-05,\n",
       "         6.4224e-05, 5.3933e-04, 1.8205e-09, 1.1204e-06, 2.1392e-06, 1.2518e-04,\n",
       "         6.3118e-05, 4.4185e-05, 2.4540e-06, 1.6217e-06, 1.0728e-02, 2.1219e-04,\n",
       "         3.9378e-05, 3.1335e-05, 7.4618e-07, 4.9432e-07, 5.3353e-05, 2.9628e-08,\n",
       "         3.2084e-06, 1.7280e-06, 6.2690e-07, 1.4408e-05, 6.2327e-07, 9.5461e-05,\n",
       "         9.3663e-02, 4.4771e-05, 3.8425e-06, 1.6047e-05, 6.0059e-05, 1.0368e-02,\n",
       "         6.4004e-06, 1.4873e-04, 3.8292e-07, 6.0253e-07, 5.8222e-05, 1.0946e-05,\n",
       "         1.6585e-05, 5.9942e-06, 2.7410e-05, 2.9015e-06, 3.4211e-05, 5.4248e-04,\n",
       "         2.3506e-04, 2.9516e-06, 9.3722e-06, 7.9346e-01, 3.1444e-06, 6.0126e-07,\n",
       "         7.0366e-05, 1.4914e-04, 1.0592e-06, 8.4088e-04, 1.5269e-05, 3.0053e-06,\n",
       "         2.2614e-04, 1.1753e-05, 4.6160e-07, 2.2770e-04, 1.1289e-04, 4.9835e-05,\n",
       "         6.4414e-04, 1.4110e-04, 5.2764e-02, 1.5941e-06, 4.4137e-05, 1.9670e-04,\n",
       "         1.1441e-05, 2.9104e-06, 7.4823e-03, 5.4228e-06, 1.0212e-04, 6.0992e-03,\n",
       "         3.7525e-05, 6.1182e-04, 8.2717e-06, 7.0043e-04, 1.2759e-04]])"
      ]
     },
     "execution_count": 25,
     "metadata": {},
     "output_type": "execute_result"
    }
   ],
   "source": [
    "probabilities"
   ]
  },
  {
   "cell_type": "code",
   "execution_count": 35,
   "id": "283246c3-4a53-4fae-a58c-f4001d1b0db1",
   "metadata": {},
   "outputs": [
    {
     "name": "stdout",
     "output_type": "stream",
     "text": [
      "L'invertébré prédit est de classe : Ophiothrix_aristulata_\n"
     ]
    }
   ],
   "source": [
    "threshold = 0.7  \n",
    "\n",
    "image_path = \"C:\\\\Users\\\\Christian\\\\Pictures\\\\Saved Pictures\\\\ver_terre.jpg\" \n",
    "image = Image.open(image_path).convert('RGB')\n",
    "input_tensor = transform(image).unsqueeze(0)  # batch size = 1\n",
    "\n",
    "# Inference\n",
    "with torch.no_grad():\n",
    "    output = model(input_tensor)\n",
    "    probabilities = torch.softmax(output, dim=1)  # Calcul des probabilités\n",
    "    max_prob, predicted_class_idx = torch.max(probabilities, dim=1)\n",
    "\n",
    "if max_prob < threshold:\n",
    "    print(\"L'image appartient à une catégorie inconnue.\")\n",
    "else:\n",
    "    # Convertir l'index en nom de classe\n",
    "    predicted_class_name = class_names[predicted_class_idx.item()]\n",
    "    print(\"L'invertébré prédit est de classe :\", predicted_class_name)\n",
    "\n",
    "\n"
   ]
  },
  {
   "cell_type": "code",
   "execution_count": 36,
   "id": "5bab4582-b4d4-45a1-b9a2-1840af354f46",
   "metadata": {},
   "outputs": [
    {
     "data": {
      "text/plain": [
       "tensor([[1.7453e-04, 3.4162e-05, 1.5419e-03, 6.4013e-06, 1.2343e-03, 1.9159e-04,\n",
       "         1.8404e-06, 1.6757e-05, 2.0494e-02, 1.9749e-06, 5.9999e-06, 8.4731e-04,\n",
       "         2.7833e-05, 5.4122e-06, 6.3502e-05, 9.7215e-04, 3.2799e-06, 8.4866e-04,\n",
       "         2.5866e-05, 6.0305e-05, 1.0224e-05, 6.7660e-05, 2.0822e-03, 9.8813e-07,\n",
       "         1.4082e-04, 2.5313e-04, 8.0456e-03, 5.1455e-04, 4.2859e-07, 2.3613e-06,\n",
       "         2.8455e-05, 2.8095e-05, 6.4329e-05, 1.3027e-03, 2.2043e-05, 1.1993e-05,\n",
       "         3.2276e-05, 1.0500e-06, 9.3955e-06, 2.7774e-05, 1.1948e-05, 1.5356e-06,\n",
       "         2.2969e-04, 5.2288e-05, 2.6351e-04, 5.8213e-06, 3.7357e-06, 8.4371e-05,\n",
       "         5.8060e-05, 5.6788e-04, 3.5988e-06, 3.9884e-05, 1.6299e-05, 3.3818e-05,\n",
       "         4.6445e-05, 1.1492e-04, 2.0785e-05, 1.4994e-06, 3.7513e-06, 7.4129e-05,\n",
       "         8.7755e-06, 2.3543e-06, 3.8376e-08, 3.5790e-06, 5.5564e-06, 6.9245e-06,\n",
       "         3.4616e-03, 1.5035e-04, 1.2358e-06, 4.0710e-06, 5.7177e-05, 5.2190e-05,\n",
       "         5.9330e-05, 7.7530e-06, 3.2726e-06, 2.0916e-06, 6.6397e-05, 3.3397e-08,\n",
       "         1.9096e-04, 1.3797e-04, 1.1241e-05, 7.1463e-06, 1.5612e-05, 4.5333e-04,\n",
       "         9.2761e-01, 3.9372e-03, 4.7511e-05, 3.0580e-04, 3.5096e-03, 3.9094e-05,\n",
       "         3.0435e-05, 7.7297e-05, 7.7055e-06, 5.0041e-06, 4.6052e-05, 1.7751e-05,\n",
       "         1.2734e-05, 4.4167e-04, 2.4544e-03, 5.6801e-05, 4.4709e-06, 5.1382e-03,\n",
       "         2.7154e-03, 3.3077e-05, 1.7885e-05, 2.4641e-04, 3.2219e-03, 4.4507e-05,\n",
       "         2.2138e-04, 8.5831e-06, 7.9240e-06, 1.5052e-04, 1.7773e-05, 7.1972e-05,\n",
       "         3.0169e-05, 4.2102e-07, 6.4294e-04, 1.7480e-04, 4.7131e-05, 1.3621e-05,\n",
       "         5.6473e-05, 5.4196e-06, 2.2051e-05, 3.2378e-06, 3.2913e-05, 8.6953e-04,\n",
       "         2.1197e-04, 6.1477e-06, 5.4793e-04, 1.1713e-05, 6.8440e-05, 7.6746e-04,\n",
       "         1.2044e-06, 3.1397e-04, 9.8910e-07, 8.4408e-05, 3.6959e-05]])"
      ]
     },
     "execution_count": 36,
     "metadata": {},
     "output_type": "execute_result"
    }
   ],
   "source": [
    "probabilities"
   ]
  },
  {
   "cell_type": "code",
   "execution_count": null,
   "id": "806b4c20-0506-46ab-926f-8e65781403d7",
   "metadata": {},
   "outputs": [],
   "source": []
  }
 ],
 "metadata": {
  "kernelspec": {
   "display_name": "Python 3 (ipykernel)",
   "language": "python",
   "name": "python3"
  },
  "language_info": {
   "codemirror_mode": {
    "name": "ipython",
    "version": 3
   },
   "file_extension": ".py",
   "mimetype": "text/x-python",
   "name": "python",
   "nbconvert_exporter": "python",
   "pygments_lexer": "ipython3",
   "version": "3.12.3"
  }
 },
 "nbformat": 4,
 "nbformat_minor": 5
}
